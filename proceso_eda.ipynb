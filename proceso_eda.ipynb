{
 "cells": [
  {
   "cell_type": "markdown",
   "metadata": {},
   "source": [
    "⭕ Importamos Libreria Pandas y el Dataset en formato .csv\n",
    "⭕ Se puestran las prmeras filas del Dataset"
   ]
  },
  {
   "cell_type": "code",
   "execution_count": 1,
   "metadata": {},
   "outputs": [
    {
     "name": "stdout",
     "output_type": "stream",
     "text": [
      "                     Spill / Vessel  \\\n",
      "0   2023 Princess Empress oil spill   \n",
      "1  2022 Keystone Pipeline oil spill   \n",
      "2   2022 Chesire oil truck rollover   \n",
      "3             2022 Callao oil spill   \n",
      "4        2021 New Orleans oil spill   \n",
      "\n",
      "                                       Location             Dates  Min Tonnes  \\\n",
      "0           Philippines, Pola, Oriental Mindoro  28 February 2023      881.00   \n",
      "1      United States, Washington County, Kansas   7 December 2022    18516.94   \n",
      "2          United States, Cheshire, Connecticut  11 February 2022       62.98   \n",
      "3             Ventanilla District, Callao, Peru   15 January 2022     1626.39   \n",
      "4  United States, St. Bernard Parish, Louisiana  27 December 2021      944.11   \n",
      "\n",
      "   Max Tonnes                       Owner        Country  \n",
      "0      881.00  RDC Reield Marine Services    Philippines  \n",
      "1    18516.94                   TC Energy  United States  \n",
      "2       62.98      Libretti and Sons Fuel  United States  \n",
      "3     1861.68                      Repsol           Peru  \n",
      "4      944.11                  PBF Energy  United States  \n"
     ]
    }
   ],
   "source": [
    "import pandas as pd\n",
    "\n",
    "# Cargar el dataset desde un archivo CSV\n",
    "df = pd.read_csv('datos_oil.csv')\n",
    "\n",
    "# Mostrar las primeras filas del dataset para verificar que se ha cargado correctamente\n",
    "print(df.head())\n"
   ]
  },
  {
   "cell_type": "markdown",
   "metadata": {},
   "source": [
    "⭕ Verificamos la cantidad de filas y columnas que contiene el Dataset"
   ]
  },
  {
   "cell_type": "code",
   "execution_count": 16,
   "metadata": {},
   "outputs": [
    {
     "name": "stdout",
     "output_type": "stream",
     "text": [
      "El DataFrame tiene 34 filas y 7 columnas.\n"
     ]
    }
   ],
   "source": [
    "# Obtener el número de filas y columnas\n",
    "num_filas, num_columnas = df.shape\n",
    "\n",
    "# Mostrar el resultado\n",
    "print(f\"El DataFrame tiene {num_filas} filas y {num_columnas} columnas.\")\n"
   ]
  },
  {
   "cell_type": "markdown",
   "metadata": {},
   "source": [
    "⭕ Se identifican los valores NaN (valores faltantes)"
   ]
  },
  {
   "cell_type": "code",
   "execution_count": 12,
   "metadata": {},
   "outputs": [
    {
     "name": "stdout",
     "output_type": "stream",
     "text": [
      "---Identificacion de Valores NaN-->\n",
      "Spill / Vessel    0\n",
      "Location          0\n",
      "Dates             0\n",
      "Min Tonnes        8\n",
      "Max Tonnes        8\n",
      "Owner             4\n",
      "Country           0\n",
      "dtype: int64\n",
      "---Porcentajes de NaN por columna-->\n",
      "Spill / Vessel     0.000000\n",
      "Location           0.000000\n",
      "Dates              0.000000\n",
      "Min Tonnes        23.529412\n",
      "Max Tonnes        23.529412\n",
      "Owner             11.764706\n",
      "Country            0.000000\n",
      "dtype: float64\n"
     ]
    }
   ],
   "source": [
    "# Identificar valores NaN en el dataframe\n",
    "nan_analysis = df.isna().sum()\n",
    "\n",
    "# Calcular el porcentaje de valores NaN por columna\n",
    "nan_percentage = (nan_analysis / len(df)) * 100\n",
    "print('---Identificacion de Valores NaN-->')\n",
    "print(nan_analysis)\n",
    "print('---Porcentajes de NaN por columna-->')\n",
    "print(nan_percentage)"
   ]
  },
  {
   "cell_type": "code",
   "execution_count": 13,
   "metadata": {},
   "outputs": [
    {
     "data": {
      "text/html": [
       "<div>\n",
       "<style scoped>\n",
       "    .dataframe tbody tr th:only-of-type {\n",
       "        vertical-align: middle;\n",
       "    }\n",
       "\n",
       "    .dataframe tbody tr th {\n",
       "        vertical-align: top;\n",
       "    }\n",
       "\n",
       "    .dataframe thead th {\n",
       "        text-align: right;\n",
       "    }\n",
       "</style>\n",
       "<table border=\"1\" class=\"dataframe\">\n",
       "  <thead>\n",
       "    <tr style=\"text-align: right;\">\n",
       "      <th></th>\n",
       "      <th>Column</th>\n",
       "      <th>Missing Values</th>\n",
       "      <th>Percentage (%)</th>\n",
       "    </tr>\n",
       "  </thead>\n",
       "  <tbody>\n",
       "    <tr>\n",
       "      <th>0</th>\n",
       "      <td>Spill / Vessel</td>\n",
       "      <td>0</td>\n",
       "      <td>0.000000</td>\n",
       "    </tr>\n",
       "    <tr>\n",
       "      <th>1</th>\n",
       "      <td>Location</td>\n",
       "      <td>0</td>\n",
       "      <td>0.000000</td>\n",
       "    </tr>\n",
       "    <tr>\n",
       "      <th>2</th>\n",
       "      <td>Dates</td>\n",
       "      <td>0</td>\n",
       "      <td>0.000000</td>\n",
       "    </tr>\n",
       "    <tr>\n",
       "      <th>3</th>\n",
       "      <td>Min Tonnes</td>\n",
       "      <td>8</td>\n",
       "      <td>23.529412</td>\n",
       "    </tr>\n",
       "    <tr>\n",
       "      <th>4</th>\n",
       "      <td>Max Tonnes</td>\n",
       "      <td>8</td>\n",
       "      <td>23.529412</td>\n",
       "    </tr>\n",
       "    <tr>\n",
       "      <th>5</th>\n",
       "      <td>Owner</td>\n",
       "      <td>4</td>\n",
       "      <td>11.764706</td>\n",
       "    </tr>\n",
       "    <tr>\n",
       "      <th>6</th>\n",
       "      <td>Country</td>\n",
       "      <td>0</td>\n",
       "      <td>0.000000</td>\n",
       "    </tr>\n",
       "  </tbody>\n",
       "</table>\n",
       "</div>"
      ],
      "text/plain": [
       "           Column  Missing Values  Percentage (%)\n",
       "0  Spill / Vessel               0        0.000000\n",
       "1        Location               0        0.000000\n",
       "2           Dates               0        0.000000\n",
       "3      Min Tonnes               8       23.529412\n",
       "4      Max Tonnes               8       23.529412\n",
       "5           Owner               4       11.764706\n",
       "6         Country               0        0.000000"
      ]
     },
     "execution_count": 13,
     "metadata": {},
     "output_type": "execute_result"
    }
   ],
   "source": [
    "# Crear un DataFrame con el análisis de NaN\n",
    "nan_df = pd.DataFrame({\n",
    "    'Column': nan_analysis.index,\n",
    "    'Missing Values': nan_analysis.values,\n",
    "    'Percentage (%)': nan_percentage.values\n",
    "})\n",
    "\n",
    "# Mostrar el DataFrame con el análisis de NaN\n",
    "nan_df"
   ]
  },
  {
   "cell_type": "markdown",
   "metadata": {},
   "source": [
    "⭕ Se filtran e identifican los valores NaN por columna"
   ]
  },
  {
   "cell_type": "code",
   "execution_count": 14,
   "metadata": {},
   "outputs": [
    {
     "data": {
      "text/html": [
       "<div>\n",
       "<style scoped>\n",
       "    .dataframe tbody tr th:only-of-type {\n",
       "        vertical-align: middle;\n",
       "    }\n",
       "\n",
       "    .dataframe tbody tr th {\n",
       "        vertical-align: top;\n",
       "    }\n",
       "\n",
       "    .dataframe thead th {\n",
       "        text-align: right;\n",
       "    }\n",
       "</style>\n",
       "<table border=\"1\" class=\"dataframe\">\n",
       "  <thead>\n",
       "    <tr style=\"text-align: right;\">\n",
       "      <th></th>\n",
       "      <th>Spill / Vessel</th>\n",
       "      <th>Location</th>\n",
       "      <th>Dates</th>\n",
       "      <th>Min Tonnes</th>\n",
       "      <th>Max Tonnes</th>\n",
       "      <th>Owner</th>\n",
       "      <th>Country</th>\n",
       "    </tr>\n",
       "  </thead>\n",
       "  <tbody>\n",
       "    <tr>\n",
       "      <th>12</th>\n",
       "      <td>Tanker truck pumping out sludge from a vessel</td>\n",
       "      <td>New Zealand, Tauranga, Bay of Plenty</td>\n",
       "      <td>30 March 2020</td>\n",
       "      <td>1.7</td>\n",
       "      <td>1.7</td>\n",
       "      <td>NaN</td>\n",
       "      <td>New Zealand</td>\n",
       "    </tr>\n",
       "    <tr>\n",
       "      <th>16</th>\n",
       "      <td>Tanker truck rollover</td>\n",
       "      <td>United States, California, Santa Maria, Cuyama...</td>\n",
       "      <td>21 March 2020</td>\n",
       "      <td>14.6</td>\n",
       "      <td>19.5</td>\n",
       "      <td>NaN</td>\n",
       "      <td>United States</td>\n",
       "    </tr>\n",
       "    <tr>\n",
       "      <th>24</th>\n",
       "      <td>Ulysse-Virginia collision</td>\n",
       "      <td>North of Corsica (international waters)</td>\n",
       "      <td>1 October 2018</td>\n",
       "      <td>NaN</td>\n",
       "      <td>NaN</td>\n",
       "      <td>NaN</td>\n",
       "      <td>International Waters (near France)</td>\n",
       "    </tr>\n",
       "    <tr>\n",
       "      <th>25</th>\n",
       "      <td>Port Erin diesel spill (source )</td>\n",
       "      <td>Isle of Man</td>\n",
       "      <td>23 July 2018</td>\n",
       "      <td>NaN</td>\n",
       "      <td>NaN</td>\n",
       "      <td>NaN</td>\n",
       "      <td>Isle of Man (self-governing British Crown depe...</td>\n",
       "    </tr>\n",
       "  </tbody>\n",
       "</table>\n",
       "</div>"
      ],
      "text/plain": [
       "                                   Spill / Vessel  \\\n",
       "12  Tanker truck pumping out sludge from a vessel   \n",
       "16                          Tanker truck rollover   \n",
       "24                      Ulysse-Virginia collision   \n",
       "25               Port Erin diesel spill (source )   \n",
       "\n",
       "                                             Location           Dates  \\\n",
       "12               New Zealand, Tauranga, Bay of Plenty   30 March 2020   \n",
       "16  United States, California, Santa Maria, Cuyama...   21 March 2020   \n",
       "24            North of Corsica (international waters)  1 October 2018   \n",
       "25                                        Isle of Man    23 July 2018   \n",
       "\n",
       "    Min Tonnes  Max Tonnes Owner  \\\n",
       "12         1.7         1.7   NaN   \n",
       "16        14.6        19.5   NaN   \n",
       "24         NaN         NaN   NaN   \n",
       "25         NaN         NaN   NaN   \n",
       "\n",
       "                                              Country  \n",
       "12                                        New Zealand  \n",
       "16                                      United States  \n",
       "24                 International Waters (near France)  \n",
       "25  Isle of Man (self-governing British Crown depe...  "
      ]
     },
     "execution_count": 14,
     "metadata": {},
     "output_type": "execute_result"
    }
   ],
   "source": [
    "# Filtrar las filas donde existen valores NaN en la columna \"Owner\"\n",
    "filtered_df = df[df['Owner'].isna()]\n",
    "\n",
    "# Mostrar el DataFrame filtrado\n",
    "filtered_df\n"
   ]
  },
  {
   "cell_type": "markdown",
   "metadata": {},
   "source": [
    "🕵️‍♂️ ¿Como podrian manejarse los valores NaN?\n",
    "\n",
    "⭕ Eliminar Filas o Columnas con NaN\n",
    "\n",
    "df_cleaned = df.dropna()  # Elimina todas las filas que tienen al menos un valor NaN\n",
    "\n",
    "df_cleaned = df.dropna(subset=['Owner'])  # Elimina solo las filas donde 'Owner' tiene NaN\n"
   ]
  },
  {
   "cell_type": "markdown",
   "metadata": {},
   "source": [
    "⭕ En este caso vamos a utilizar la segunda opcion para no eliminar todos los datos con NaN, vamos a seleccionar solamente los valores NaN contenidos en una columna en particular, lleva el nombre de OWNER"
   ]
  },
  {
   "cell_type": "code",
   "execution_count": 19,
   "metadata": {},
   "outputs": [],
   "source": [
    " # Elimina solo las filas donde 'Owner' tiene NaN\n",
    "\n",
    "df_cleaned = df.dropna(subset=['Owner']) \n"
   ]
  },
  {
   "cell_type": "markdown",
   "metadata": {},
   "source": [
    "⭕ Luego de la limpieza volvemos a consultar por los valores NaN de cada columna"
   ]
  },
  {
   "cell_type": "code",
   "execution_count": 21,
   "metadata": {},
   "outputs": [
    {
     "data": {
      "text/html": [
       "<div>\n",
       "<style scoped>\n",
       "    .dataframe tbody tr th:only-of-type {\n",
       "        vertical-align: middle;\n",
       "    }\n",
       "\n",
       "    .dataframe tbody tr th {\n",
       "        vertical-align: top;\n",
       "    }\n",
       "\n",
       "    .dataframe thead th {\n",
       "        text-align: right;\n",
       "    }\n",
       "</style>\n",
       "<table border=\"1\" class=\"dataframe\">\n",
       "  <thead>\n",
       "    <tr style=\"text-align: right;\">\n",
       "      <th></th>\n",
       "      <th>Column</th>\n",
       "      <th>Missing Values</th>\n",
       "      <th>Percentage (%)</th>\n",
       "    </tr>\n",
       "  </thead>\n",
       "  <tbody>\n",
       "    <tr>\n",
       "      <th>0</th>\n",
       "      <td>Spill / Vessel</td>\n",
       "      <td>0</td>\n",
       "      <td>0.0</td>\n",
       "    </tr>\n",
       "    <tr>\n",
       "      <th>1</th>\n",
       "      <td>Location</td>\n",
       "      <td>0</td>\n",
       "      <td>0.0</td>\n",
       "    </tr>\n",
       "    <tr>\n",
       "      <th>2</th>\n",
       "      <td>Dates</td>\n",
       "      <td>0</td>\n",
       "      <td>0.0</td>\n",
       "    </tr>\n",
       "    <tr>\n",
       "      <th>3</th>\n",
       "      <td>Min Tonnes</td>\n",
       "      <td>6</td>\n",
       "      <td>20.0</td>\n",
       "    </tr>\n",
       "    <tr>\n",
       "      <th>4</th>\n",
       "      <td>Max Tonnes</td>\n",
       "      <td>6</td>\n",
       "      <td>20.0</td>\n",
       "    </tr>\n",
       "    <tr>\n",
       "      <th>5</th>\n",
       "      <td>Owner</td>\n",
       "      <td>0</td>\n",
       "      <td>0.0</td>\n",
       "    </tr>\n",
       "    <tr>\n",
       "      <th>6</th>\n",
       "      <td>Country</td>\n",
       "      <td>0</td>\n",
       "      <td>0.0</td>\n",
       "    </tr>\n",
       "  </tbody>\n",
       "</table>\n",
       "</div>"
      ],
      "text/plain": [
       "           Column  Missing Values  Percentage (%)\n",
       "0  Spill / Vessel               0             0.0\n",
       "1        Location               0             0.0\n",
       "2           Dates               0             0.0\n",
       "3      Min Tonnes               6            20.0\n",
       "4      Max Tonnes               6            20.0\n",
       "5           Owner               0             0.0\n",
       "6         Country               0             0.0"
      ]
     },
     "execution_count": 21,
     "metadata": {},
     "output_type": "execute_result"
    }
   ],
   "source": [
    "# Recalcular el análisis de NaN después de limpiar el DataFrame\n",
    "nan_analysis_cleaned = df_cleaned.isna().sum()\n",
    "nan_percentage_cleaned = (nan_analysis_cleaned / len(df_cleaned)) * 100\n",
    "\n",
    "# Crear un nuevo DataFrame con el análisis de NaN\n",
    "nan_df_cleaned = pd.DataFrame({\n",
    "    'Column': nan_analysis_cleaned.index,\n",
    "    'Missing Values': nan_analysis_cleaned.values,\n",
    "    'Percentage (%)': nan_percentage_cleaned.values\n",
    "})\n",
    "\n",
    "# Mostrar el DataFrame con el análisis de NaN después de limpiar\n",
    "nan_df_cleaned\n"
   ]
  },
  {
   "cell_type": "markdown",
   "metadata": {},
   "source": [
    "🕵️‍♂️ Como se puede observar en la limpieza anterior, al eliminar las finas que contenian NaN en la columna OWNER tambien se reducen los NaN de las columnas 'Min Tonnes' y 'Max Tonnes' esto puede estar relacionado a que las filas eliminadas tenian alguna relacion con las estas columnas afectadas, por esta razon es miy importante analizar bien antes de eliminar datos. "
   ]
  },
  {
   "cell_type": "markdown",
   "metadata": {},
   "source": [
    "⭕ Otra de las opciones uqe tenemos al eliminar NaN es, eliminar la columna completa, siempre y cuando no contega datos relevantes:\n",
    "\n",
    "df_cleaned = df.drop(columns=['Max Tonnes'])  # Elimina la columna 'Max Tonnes'\n"
   ]
  },
  {
   "cell_type": "markdown",
   "metadata": {},
   "source": [
    "⭕ Otra opcion que podemos ver a continuacion es Rellenar los Valores NaN con otros valores, pueden ser con numeros 0 o String."
   ]
  },
  {
   "cell_type": "code",
   "execution_count": 24,
   "metadata": {},
   "outputs": [
    {
     "name": "stderr",
     "output_type": "stream",
     "text": [
      "C:\\Users\\herna\\AppData\\Local\\Temp\\ipykernel_17232\\2680936582.py:2: FutureWarning: A value is trying to be set on a copy of a DataFrame or Series through chained assignment using an inplace method.\n",
      "The behavior will change in pandas 3.0. This inplace method will never work because the intermediate object on which we are setting values always behaves as a copy.\n",
      "\n",
      "For example, when doing 'df[col].method(value, inplace=True)', try using 'df.method({col: value}, inplace=True)' or df[col] = df[col].method(value) instead, to perform the operation inplace on the original object.\n",
      "\n",
      "\n",
      "  df['Min Tonnes'].fillna(0, inplace=True)  # Rellenar con 0\n"
     ]
    }
   ],
   "source": [
    "# Rellenar con 0\n",
    "df['Min Tonnes'].fillna(0, inplace=True)  # Rellenar con 0\n",
    "\n"
   ]
  },
  {
   "cell_type": "markdown",
   "metadata": {},
   "source": [
    "⭕ Ahora vamos a verificar si quedan valores NaN en el Dataframe "
   ]
  },
  {
   "cell_type": "code",
   "execution_count": 25,
   "metadata": {},
   "outputs": [
    {
     "name": "stdout",
     "output_type": "stream",
     "text": [
      "Spill / Vessel    0\n",
      "Location          0\n",
      "Dates             0\n",
      "Min Tonnes        0\n",
      "Max Tonnes        8\n",
      "Owner             0\n",
      "Country           0\n",
      "dtype: int64\n"
     ]
    }
   ],
   "source": [
    "nan_analysis_after_modification = df.isna().sum()\n",
    "print(nan_analysis_after_modification)\n"
   ]
  },
  {
   "cell_type": "markdown",
   "metadata": {},
   "source": [
    "⭕ Vamos a cambiar los valores NaN de la columna 'Max Tonnes? por 'Unknown'"
   ]
  },
  {
   "cell_type": "code",
   "execution_count": 26,
   "metadata": {},
   "outputs": [
    {
     "name": "stderr",
     "output_type": "stream",
     "text": [
      "C:\\Users\\herna\\AppData\\Local\\Temp\\ipykernel_17232\\1092305605.py:1: FutureWarning: A value is trying to be set on a copy of a DataFrame or Series through chained assignment using an inplace method.\n",
      "The behavior will change in pandas 3.0. This inplace method will never work because the intermediate object on which we are setting values always behaves as a copy.\n",
      "\n",
      "For example, when doing 'df[col].method(value, inplace=True)', try using 'df.method({col: value}, inplace=True)' or df[col] = df[col].method(value) instead, to perform the operation inplace on the original object.\n",
      "\n",
      "\n",
      "  df['Max Tonnes'].fillna('Unknown', inplace=True)  # Rellenar con 'Unknown'\n",
      "C:\\Users\\herna\\AppData\\Local\\Temp\\ipykernel_17232\\1092305605.py:1: FutureWarning: Setting an item of incompatible dtype is deprecated and will raise an error in a future version of pandas. Value 'Unknown' has dtype incompatible with float64, please explicitly cast to a compatible dtype first.\n",
      "  df['Max Tonnes'].fillna('Unknown', inplace=True)  # Rellenar con 'Unknown'\n"
     ]
    }
   ],
   "source": [
    "df['Max Tonnes'].fillna('Unknown', inplace=True)  # Rellenar con 'Unknown'"
   ]
  },
  {
   "cell_type": "markdown",
   "metadata": {},
   "source": [
    "⭕ Volvemos a consultar como quedo el Dataframe"
   ]
  },
  {
   "cell_type": "code",
   "execution_count": 27,
   "metadata": {},
   "outputs": [
    {
     "name": "stdout",
     "output_type": "stream",
     "text": [
      "Spill / Vessel    0\n",
      "Location          0\n",
      "Dates             0\n",
      "Min Tonnes        0\n",
      "Max Tonnes        0\n",
      "Owner             0\n",
      "Country           0\n",
      "dtype: int64\n"
     ]
    }
   ],
   "source": [
    "nan_analysis_after_modification = df.isna().sum()\n",
    "print(nan_analysis_after_modification)"
   ]
  },
  {
   "cell_type": "markdown",
   "metadata": {},
   "source": [
    "🕵️‍♂️ Otras tecnicas para manejar los NaN son:\n",
    "\n",
    "⭕ Rellenar con el promedio, mediana o moda:\n",
    "\n",
    "df['Min Tonnes'].fillna(df['Min Tonnes'].mean(), inplace=True)  # Rellenar con el promedio\n",
    "\n",
    "df['Min Tonnes'].fillna(df['Min Tonnes'].median(), inplace=True)  # Rellenar con la mediana\n",
    "\n",
    "⭕ Interpolación lineal: Especialmente útil en series temporales, donde puedes estimar los valores faltantes usando la interpolación.\n",
    "\n",
    "df['Min Tonnes'] = df['Min Tonnes'].interpolate(method='linear')\n",
    "\n",
    "⭕ Mantener los NaN\n",
    "Si los NaN tienen un significado particular, puedes mantenerlos y considerarlos en tu análisis. Por ejemplo, en algunos casos, un valor faltante podría indicar la ausencia de un evento o la falta de información disponible.\n",
    "\n",
    "⭕ Crear una Columna Indicadora: Si decides rellenar los valores NaN, puedes crear una columna adicional que indique si un valor era originalmente NaN. Esto puede ser útil para análisis posteriores.\n",
    "\n",
    "df['Owner_missing'] = df['Owner'].isna().astype(int)\n",
    "df['Owner'].fillna('Unknown', inplace=True)\n",
    "\n",
    "Rellenar NaN en columnas numéricas con el promedio\n",
    "\n",
    "df['Min Tonnes'].fillna(df['Min Tonnes'].mean(), inplace=True)\n",
    "df['Max Tonnes'].fillna(df['Max Tonnes'].mean(), inplace=True)\n",
    "\n",
    "Rellenar NaN en la columna \"Owner\" con \"Unknown\"\n",
    "\n",
    "df['Owner'].fillna('Unknown', inplace=True)\n",
    "\n"
   ]
  },
  {
   "cell_type": "markdown",
   "metadata": {},
   "source": [
    "⭕ Ahora descargamos el Dataset limpio"
   ]
  },
  {
   "cell_type": "code",
   "execution_count": 28,
   "metadata": {},
   "outputs": [],
   "source": [
    "# Descarga como archivo Excel\n",
    "df.to_excel('Dataset_Limpio.xlsx', index=False)\n"
   ]
  },
  {
   "cell_type": "code",
   "execution_count": 29,
   "metadata": {},
   "outputs": [],
   "source": [
    "#Descarga como archivo CSV\n",
    "df.to_csv('Dataset_Limpio.csv', index=False)\n"
   ]
  },
  {
   "cell_type": "markdown",
   "metadata": {},
   "source": [
    "🕵️‍♂️ Analisis Exploratorio"
   ]
  },
  {
   "cell_type": "markdown",
   "metadata": {},
   "source": [
    "⭕ A continuacion vamos se analiza si el formato de la columna 'Dates' es correcta, es decir si se encuentra en formato de fecha y hora."
   ]
  },
  {
   "cell_type": "code",
   "execution_count": 30,
   "metadata": {},
   "outputs": [
    {
     "name": "stdout",
     "output_type": "stream",
     "text": [
      "0    28 February 2023\n",
      "1     7 December 2022\n",
      "2    11 February 2022\n",
      "3     15 January 2022\n",
      "4    27 December 2021\n",
      "Name: Dates, dtype: object\n"
     ]
    }
   ],
   "source": [
    "# Verificar el cambio mostrando los primeros registros\n",
    "print(df['Dates'].head())"
   ]
  },
  {
   "cell_type": "markdown",
   "metadata": {},
   "source": [
    "⭕ Segun lo observado, la columna tiene un formato de tipo 'Object' el cual no es el adecuado, por lo tanto vamos a proceder a cambiar dicha configuracion. "
   ]
  },
  {
   "cell_type": "code",
   "execution_count": 31,
   "metadata": {},
   "outputs": [
    {
     "name": "stdout",
     "output_type": "stream",
     "text": [
      "0   2023-02-28\n",
      "1   2022-12-07\n",
      "2   2022-02-11\n",
      "3   2022-01-15\n",
      "4   2021-12-27\n",
      "Name: Dates, dtype: datetime64[ns]\n"
     ]
    }
   ],
   "source": [
    "# Convertir la columna 'Dates' a formato de fecha\n",
    "df['Dates'] = pd.to_datetime(df['Dates'])\n",
    "\n",
    "# Verificar el cambio mostrando los primeros registros\n",
    "print(df['Dates'].head())\n"
   ]
  },
  {
   "cell_type": "markdown",
   "metadata": {},
   "source": [
    "⭕ A continuacion se utiliza el metodo 'resample' sirve para agrupar datos basados en frecuencia de tiempo para luego aplicar alguna operacion como 'mean' 'sum' etc. Esto se conoce como series temporales conjunto de puntos de datos recopilados o registrados en intervalos de tiempo - minutos, días, meses, años. El análisis de series temporales es crucial para la comprensión de las tendencias, la predicción y el modelado.\n",
    "\n",
    " La sintaxis es df.resample(rule, on='column_name').operation()\n",
    "\n",
    "Otras opciones de rule:\n",
    "\n",
    "'D': Día.\n",
    "\n",
    "'W': Semana.\n",
    "\n",
    "'Q': Trimestre.\n",
    "\n",
    "'A': Año.\n",
    "\n",
    "'H': Hora.\n",
    "\n",
    "'T' o 'min': Minuto.\n",
    "\n",
    "\n"
   ]
  },
  {
   "cell_type": "markdown",
   "metadata": {},
   "source": [
    "⭕ A continuacion se realiza una agrupacion Mensual de los datos y luego se suman."
   ]
  },
  {
   "cell_type": "code",
   "execution_count": 32,
   "metadata": {},
   "outputs": [
    {
     "name": "stderr",
     "output_type": "stream",
     "text": [
      "C:\\Users\\herna\\AppData\\Local\\Temp\\ipykernel_17232\\3500590871.py:2: FutureWarning: 'M' is deprecated and will be removed in a future version, please use 'ME' instead.\n",
      "  monthly_sum = df.resample('M', on='Dates')['Min Tonnes'].sum()\n"
     ]
    },
    {
     "name": "stdout",
     "output_type": "stream",
     "text": [
      "Dates\n",
      "2016-10-31       240.00\n",
      "2016-11-30         0.00\n",
      "2016-12-31       571.00\n",
      "2017-01-31       251.00\n",
      "2017-02-28         0.00\n",
      "2017-03-31         0.00\n",
      "2017-04-30         0.27\n",
      "2017-05-31        97.00\n",
      "2017-06-30         0.00\n",
      "2017-07-31         0.00\n",
      "2017-08-31         0.00\n",
      "2017-09-30      2500.00\n",
      "2017-10-31         0.00\n",
      "2017-11-30      1322.00\n",
      "2017-12-31         0.00\n",
      "2018-01-31    138000.00\n",
      "2018-02-28         0.00\n",
      "2018-03-31         0.00\n",
      "2018-04-30         0.00\n",
      "2018-05-31         0.00\n",
      "2018-06-30         0.00\n",
      "2018-07-31         0.00\n",
      "2018-08-31         0.00\n",
      "2018-09-30         0.00\n",
      "2018-10-31         0.00\n",
      "2018-11-30       219.00\n",
      "2018-12-31         0.00\n",
      "2019-01-31         0.00\n",
      "2019-02-28        75.00\n",
      "2019-03-31         0.00\n",
      "2019-04-30         0.00\n",
      "2019-05-31         0.00\n",
      "2019-06-30         0.00\n",
      "2019-07-31        35.60\n",
      "2019-08-31         0.00\n",
      "2019-09-30         0.00\n",
      "2019-10-31      1240.00\n",
      "2019-11-30         0.00\n",
      "2019-12-31         0.00\n",
      "2020-01-31         0.00\n",
      "2020-02-29         0.00\n",
      "2020-03-31        16.30\n",
      "2020-04-30         0.00\n",
      "2020-05-31      1750.00\n",
      "2020-06-30       118.50\n",
      "2020-07-31         0.00\n",
      "2020-08-31     65700.00\n",
      "2020-09-30         0.00\n",
      "2020-10-31         0.00\n",
      "2020-11-30         0.00\n",
      "2020-12-31         0.00\n",
      "2021-01-31         0.00\n",
      "2021-02-28         1.90\n",
      "2021-03-31         0.00\n",
      "2021-04-30         0.00\n",
      "2021-05-31         0.00\n",
      "2021-06-30         0.00\n",
      "2021-07-31         0.00\n",
      "2021-08-31         0.00\n",
      "2021-09-30         0.00\n",
      "2021-10-31       424.42\n",
      "2021-11-30         0.00\n",
      "2021-12-31       944.11\n",
      "2022-01-31      1626.39\n",
      "2022-02-28        62.98\n",
      "2022-03-31         0.00\n",
      "2022-04-30         0.00\n",
      "2022-05-31         0.00\n",
      "2022-06-30         0.00\n",
      "2022-07-31         0.00\n",
      "2022-08-31         0.00\n",
      "2022-09-30         0.00\n",
      "2022-10-31         0.00\n",
      "2022-11-30         0.00\n",
      "2022-12-31     18516.94\n",
      "2023-01-31         0.00\n",
      "2023-02-28       881.00\n",
      "Freq: ME, Name: Min Tonnes, dtype: float64\n"
     ]
    }
   ],
   "source": [
    "# Resamplear por mes y sumar las cantidades mínimas de petróleo derramado\n",
    "monthly_sum = df.resample('M', on='Dates')['Min Tonnes'].sum()\n",
    "\n",
    "# Mostrar el resultado\n",
    "print(monthly_sum)\n"
   ]
  },
  {
   "cell_type": "markdown",
   "metadata": {},
   "source": [
    "⭕Siguiendo con los metodos exploratorios de datos a continuacion se utilizan algunos de vital importancia en el analisis de datos."
   ]
  },
  {
   "cell_type": "code",
   "execution_count": 33,
   "metadata": {},
   "outputs": [
    {
     "name": "stdout",
     "output_type": "stream",
     "text": [
      "<class 'pandas.core.frame.DataFrame'>\n",
      "RangeIndex: 34 entries, 0 to 33\n",
      "Data columns (total 7 columns):\n",
      " #   Column          Non-Null Count  Dtype         \n",
      "---  ------          --------------  -----         \n",
      " 0   Spill / Vessel  34 non-null     object        \n",
      " 1   Location        34 non-null     object        \n",
      " 2   Dates           34 non-null     datetime64[ns]\n",
      " 3   Min Tonnes      34 non-null     float64       \n",
      " 4   Max Tonnes      34 non-null     object        \n",
      " 5   Owner           34 non-null     object        \n",
      " 6   Country         34 non-null     object        \n",
      "dtypes: datetime64[ns](1), float64(1), object(5)\n",
      "memory usage: 2.0+ KB\n"
     ]
    }
   ],
   "source": [
    "# Aplicar el método df.info() para obtener información sobre el DataFrame\n",
    "df.info()\n"
   ]
  },
  {
   "cell_type": "markdown",
   "metadata": {},
   "source": [
    "\n",
    "Este resultado proviene de aplicar el método df.info() a tu DataFrame y proporciona un resumen de su estructura. Aquí te explico lo que significa cada parte del resultado:\n",
    "\n",
    "1. Clase del DataFrame\n",
    "python\n",
    "Copiar código\n",
    "<class 'pandas.core.frame.DataFrame'>\n",
    "Esto indica que el objeto que estás analizando es un DataFrame de pandas, que es una estructura de datos bidimensional, similar a una tabla, con filas y columnas.\n",
    "2. RangeIndex: 34 entries, 0 to 33\n",
    "RangeIndex: 34 entries, 0 to 33: El DataFrame tiene 34 filas, con un índice que va desde 0 hasta 33.\n",
    "3. Columnas y sus tipos de datos\n",
    "Data columns (total 7 columns):: Tu DataFrame tiene un total de 7 columnas.\n",
    "Cada columna se detalla con:\n",
    "Número de la columna (#): El índice de la columna (0 a 6).\n",
    "Nombre de la columna (Column): El nombre de cada columna.\n",
    "Non-Null Count: El número de valores no nulos en cada columna. Aquí todas las columnas tienen 34 valores no nulos, lo que significa que no hay valores faltantes (NaN) en ninguna columna.\n",
    "Dtype: El tipo de datos de la columna. Los tipos de datos son:\n",
    "object: Generalmente representa cadenas de texto.\n",
    "datetime64[ns]: Representa datos de fecha y hora.\n",
    "float64: Representa números en coma flotante (decimales).\n",
    "4. Tipos de datos\n",
    "dtypes: datetime64 , float64(1), object(5):\n",
    "El DataFrame tiene 1 columna con tipo datetime64[ns] (fechas), 1 columna con tipo float64 (números decimales), y 5 columnas con tipo object (generalmente cadenas de texto).\n",
    "5. Uso de memoria\n",
    "memory usage: 2.0+ KB: Este es el tamaño estimado del DataFrame en la memoria, que en este caso es de aproximadamente 2.0 KB.\n",
    "Resumen\n",
    "Tu DataFrame tiene 34 filas y 7 columnas, con diferentes tipos de datos:\n",
    "\n",
    "Una columna de fechas (datetime64[ns]).\n",
    "Una columna de números decimales (float64).\n",
    "Cinco columnas de texto o datos categóricos (object).\n",
    "No hay valores faltantes en el DataFrame, lo que es positivo para el análisis, ya que no necesitas preocuparte por manejar valores NaN. El DataFrame es pequeño en términos de tamaño, ocupando solo 2.0 KB de memoria, lo que lo hace muy manejable para análisis y procesamiento.\n",
    "\n",
    "Si tienes más preguntas o necesitas realizar alguna acción adicional, no dudes en pedirlo."
   ]
  }
 ],
 "metadata": {
  "kernelspec": {
   "display_name": "Python 3",
   "language": "python",
   "name": "python3"
  },
  "language_info": {
   "codemirror_mode": {
    "name": "ipython",
    "version": 3
   },
   "file_extension": ".py",
   "mimetype": "text/x-python",
   "name": "python",
   "nbconvert_exporter": "python",
   "pygments_lexer": "ipython3",
   "version": "3.11.9"
  }
 },
 "nbformat": 4,
 "nbformat_minor": 2
}
